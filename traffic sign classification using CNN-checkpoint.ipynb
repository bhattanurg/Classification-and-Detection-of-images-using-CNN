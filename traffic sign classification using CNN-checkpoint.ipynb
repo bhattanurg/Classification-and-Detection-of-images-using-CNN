{
 "cells": [
  {
   "cell_type": "markdown",
   "id": "1d3a3dce",
   "metadata": {},
   "source": [
    "# CODE TO CLASSIFY TRAFFIC SIGNS"
   ]
  },
  {
   "cell_type": "markdown",
   "id": "1b670596",
   "metadata": {},
   "source": [
    "- ( 0, b'Speed limit (20km/h)') ( 1, b'Speed limit (30km/h)')\n",
    "- ( 2, b'Speed limit (50km/h)') ( 3, b'Speed limit (60km/h)')\n",
    "- ( 4, b'Speed limit (70km/h)') ( 5, b'Speed limit (80km/h)')\n",
    "- ( 6, b'End of speed limit (80km/h)') ( 7, b'Speed limit (100km/h)')\n",
    "- ( 8, b'Speed limit (120km/h)') ( 9, b'No passing')\n",
    "- (10, b'No passing for vehicles over 3.5 metric tons')\n",
    "- (11, b'Right-of-way at the next intersection') (12, b'Priority road')\n",
    "- (13, b'Yield') (14, b'Stop') (15, b'No vehicles')\n",
    "- (16, b'Vehicles over 3.5 metric tons prohibited') (17, b'No entry')\n",
    "- (18, b'General caution') (19, b'Dangerous curve to the left')\n",
    "- (20, b'Dangerous curve to the right') (21, b'Double curve')\n",
    "- (22, b'Bumpy road') (23, b'Slippery road')\n",
    "- (24, b'Road narrows on the right') (25, b'Road work')\n",
    "- (26, b'Traffic signals') (27, b'Pedestrians') (28, b'Children crossing')\n",
    "- (29, b'Bicycles crossing') (30, b'Beware of ice/snow')\n",
    "- (31, b'Wild animals crossing')\n",
    "- (32, b'End of all speed and passing limits') (33, b'Turn right ahead')\n",
    "- (34, b'Turn left ahead') (35, b'Ahead only') (36, b'Go straight or right')\n",
    "- (37, b'Go straight or left') (38, b'Keep right') (39, b'Keep left')\n",
    "- (40, b'Roundabout mandatory') (41, b'End of no passing')\n",
    "- (42, b'End of no passing by vehicles over 3.5 metric tons')\n"
   ]
  },
  {
   "cell_type": "code",
   "execution_count": 29,
   "id": "5c2d4b0e",
   "metadata": {},
   "outputs": [],
   "source": [
    "import warnings\n",
    "warnings.filterwarnings(\"ignore\")\n"
   ]
  },
  {
   "cell_type": "code",
   "execution_count": 30,
   "id": "6714e6ff",
   "metadata": {},
   "outputs": [],
   "source": [
    "# import libraries \n",
    "import pickle\n",
    "\n",
    "import pandas as pd # Import Pandas for data manipulation using dataframes\n",
    "import numpy as np # Import Numpy for data statistical analysis \n",
    "import matplotlib.pyplot as plt # Import matplotlib for data visualisation\n",
    "import random\n"
   ]
  },
  {
   "cell_type": "code",
   "execution_count": 31,
   "id": "129a2e8b",
   "metadata": {},
   "outputs": [],
   "source": [
    "with open(\"./traffic-signs-data/train.p\", mode='rb') as training_data:\n",
    "    train = pickle.load(training_data)\n",
    "with open(\"./traffic-signs-data/valid.p\", mode='rb') as validation_data:\n",
    "    valid = pickle.load(validation_data)\n",
    "with open(\"./traffic-signs-data/test.p\", mode='rb') as testing_data:\n",
    "    test = pickle.load(testing_data)"
   ]
  },
  {
   "cell_type": "code",
   "execution_count": 32,
   "id": "42081830",
   "metadata": {},
   "outputs": [],
   "source": [
    "X_train, y_train = train['features'], train['labels']\n",
    "X_validation, y_validation = valid['features'], valid['labels']\n",
    "X_test, y_test = test['features'], test['labels']\n"
   ]
  },
  {
   "cell_type": "markdown",
   "id": "c52619d6",
   "metadata": {},
   "source": [
    "# ONE HOT ENCODE"
   ]
  },
  {
   "cell_type": "code",
   "execution_count": 33,
   "id": "f6d9c6a1",
   "metadata": {},
   "outputs": [
    {
     "data": {
      "text/plain": [
       "(34799,)"
      ]
     },
     "execution_count": 33,
     "metadata": {},
     "output_type": "execute_result"
    }
   ],
   "source": [
    "y_train.shape"
   ]
  },
  {
   "cell_type": "code",
   "execution_count": 7,
   "id": "751e79b5",
   "metadata": {},
   "outputs": [
    {
     "data": {
      "text/plain": [
       "(34799, 32, 32, 3)"
      ]
     },
     "execution_count": 7,
     "metadata": {},
     "output_type": "execute_result"
    }
   ],
   "source": [
    "X_train.shape"
   ]
  },
  {
   "cell_type": "markdown",
   "id": "37026bb1",
   "metadata": {},
   "source": [
    "# IMAGE EXPLORATION"
   ]
  },
  {
   "cell_type": "code",
   "execution_count": 9,
   "id": "cf7f881a",
   "metadata": {},
   "outputs": [
    {
     "data": {
      "text/plain": [
       "array([0., 0., 0., 0., 0., 0., 0., 0., 0., 0., 0., 0., 0., 0., 0., 0., 0.,\n",
       "       0., 0., 0., 0., 0., 0., 0., 0., 0., 0., 0., 0., 0., 0., 0., 0., 0.,\n",
       "       0., 0., 0., 0., 0., 0., 0., 1., 0.], dtype=float32)"
      ]
     },
     "execution_count": 9,
     "metadata": {},
     "output_type": "execute_result"
    },
    {
     "data": {
      "image/png": "[encoded data removed]",
      "text/plain": [
       "<Figure size 432x288 with 1 Axes>"
      ]
     },
     "metadata": {
      "needs_background": "light"
     },
     "output_type": "display_data"
    }
   ],
   "source": [
    "i = 100\n",
    "plt.imshow(X_train[i]) # Show images are not shuffled\n",
    "y_train[i]\n"
   ]
  },
  {
   "cell_type": "markdown",
   "id": "dc4bec42",
   "metadata": {},
   "source": [
    "# DATA PEPARATION"
   ]
  },
  {
   "cell_type": "code",
   "execution_count": 34,
   "id": "f53ea612",
   "metadata": {},
   "outputs": [],
   "source": [
    "## Shuffle the dataset \n",
    "from sklearn.utils import shuffle\n",
    "X_train, y_train = shuffle(X_train, y_train)\n"
   ]
  },
  {
   "cell_type": "code",
   "execution_count": 44,
   "id": "76f6bf03",
   "metadata": {},
   "outputs": [],
   "source": [
    "X_train_gray = np.sum(X_train/3, axis=3, keepdims=True)\n",
    "X_test_gray  = np.sum(X_test/3, axis=3, keepdims=True)\n",
    "X_validation_gray  = np.sum(X_validation/3, axis=3, keepdims=True) "
   ]
  },
  {
   "cell_type": "code",
   "execution_count": 45,
   "id": "79d5a21d",
   "metadata": {},
   "outputs": [
    {
     "data": {
      "text/plain": [
       "<matplotlib.image.AxesImage at 0x2183c5a8fd0>"
      ]
     },
     "execution_count": 45,
     "metadata": {},
     "output_type": "execute_result"
    },
    {
     "data": {
      "image/png": "[encoded data removed]",
      "text/plain": [
       "<Figure size 432x288 with 1 Axes>"
      ]
     },
     "metadata": {
      "needs_background": "light"
     },
     "output_type": "display_data"
    }
   ],
   "source": [
    "i = 100\n",
    "plt.imshow(X_train_gray[i])"
   ]
  },
  {
   "cell_type": "markdown",
   "id": "0cbc9700",
   "metadata": {},
   "source": [
    "# normalisation\n"
   ]
  },
  {
   "cell_type": "code",
   "execution_count": 46,
   "id": "b1139b00",
   "metadata": {},
   "outputs": [],
   "source": [
    "X_train_gray_norm = (X_train_gray - 128)/128 \n",
    "X_test_gray_norm = (X_test_gray - 128)/128\n",
    "X_validation_gray_norm = (X_validation_gray - 128)/128\n"
   ]
  },
  {
   "cell_type": "code",
   "execution_count": 47,
   "id": "b97268f3",
   "metadata": {},
   "outputs": [
    {
     "data": {
      "text/plain": [
       "(34799, 32, 32, 1)"
      ]
     },
     "execution_count": 47,
     "metadata": {},
     "output_type": "execute_result"
    }
   ],
   "source": [
    "X_train_gray.shape"
   ]
  },
  {
   "cell_type": "code",
   "execution_count": 48,
   "id": "5bfec805",
   "metadata": {},
   "outputs": [
    {
     "data": {
      "text/plain": [
       "<matplotlib.image.AxesImage at 0x2183c644130>"
      ]
     },
     "execution_count": 48,
     "metadata": {},
     "output_type": "execute_result"
    },
    {
     "data": {
      "image/png": "[encoded data removed]",
      "text/plain": [
       "<Figure size 432x288 with 1 Axes>"
      ]
     },
     "metadata": {
      "needs_background": "light"
     },
     "output_type": "display_data"
    },
    {
     "data": {
      "image/png": "[encoded data removed]",
      "text/plain": [
       "<Figure size 432x288 with 1 Axes>"
      ]
     },
     "metadata": {
      "needs_background": "light"
     },
     "output_type": "display_data"
    }
   ],
   "source": [
    "i = 610\n",
    "plt.imshow(X_train_gray[i].squeeze(), cmap='gray')\n",
    "plt.figure()\n",
    "plt.imshow(X_train[i])"
   ]
  },
  {
   "cell_type": "markdown",
   "id": "9601d3f0",
   "metadata": {},
   "source": [
    "# BUILD AND TRAIN MODEL "
   ]
  },
  {
   "cell_type": "code",
   "execution_count": 49,
   "id": "a49e1de5",
   "metadata": {},
   "outputs": [],
   "source": [
    "# Import train_test_split from scikit library\n",
    "# Import Keras\n",
    "# import keras\n",
    "from tensorflow.keras.models import Sequential\n",
    "from tensorflow.keras.layers import Conv2D, MaxPooling2D, Dense, Flatten, Dropout\n",
    "from tensorflow.keras.optimizers import Adam\n",
    "from tensorflow.keras.callbacks import TensorBoard\n",
    "\n",
    "# from subprocess import check_output\n",
    "from sklearn.model_selection import train_test_split\n"
   ]
  },
  {
   "cell_type": "code",
   "execution_count": 52,
   "id": "a419e51d",
   "metadata": {},
   "outputs": [],
   "source": [
    "image_shape = X_train_gray[i].shape"
   ]
  },
  {
   "cell_type": "markdown",
   "id": "ff2b6382",
   "metadata": {},
   "source": [
    "Now let's actually train our neural network"
   ]
  },
  {
   "cell_type": "code",
   "execution_count": 53,
   "id": "1cc2f2e3",
   "metadata": {},
   "outputs": [],
   "source": [
    "    cnn_model = Sequential()\n",
    "    cnn_model.add(Conv2D(32, (3, 3), activation='relu', input_shape=image_shape))\n",
    "    cnn_model.add(Conv2D(32, (3, 3), activation='relu'))\n",
    "    cnn_model.add(MaxPooling2D(pool_size=(2, 2)))\n",
    "    cnn_model.add(Dropout(0.25))\n",
    " \n",
    "    cnn_model.add(Conv2D(64, (3, 3), padding='same', activation='relu'))\n",
    "    cnn_model.add(Conv2D(64, (3, 3), activation='relu'))\n",
    "    cnn_model.add(MaxPooling2D(pool_size=(2, 2)))\n",
    "    cnn_model.add(Dropout(0.25))\n",
    " \n",
    "    cnn_model.add(Conv2D(64, (3, 3), padding='same', activation='relu'))\n",
    "    cnn_model.add(Conv2D(64, (3, 3), activation='relu'))\n",
    "    cnn_model.add(MaxPooling2D(pool_size=(2, 2)))\n",
    "    cnn_model.add(Dropout(0.25))\n",
    " \n",
    "    cnn_model.add(Flatten())\n",
    "    cnn_model.add(Dense(512, activation='relu'))\n",
    "    cnn_model.add(Dropout(0.5))\n",
    "    cnn_model.add(Dense(43, activation='sigmoid'))"
   ]
  },
  {
   "cell_type": "code",
   "execution_count": 54,
   "id": "add140b0",
   "metadata": {},
   "outputs": [],
   "source": [
    "cnn_model.compile(loss ='sparse_categorical_crossentropy', optimizer=Adam(lr=0.001),metrics =['accuracy'])"
   ]
  },
  {
   "cell_type": "code",
   "execution_count": 55,
   "id": "6c09f770",
   "metadata": {},
   "outputs": [
    {
     "name": "stdout",
     "output_type": "stream",
     "text": [
      "Model: \"sequential_2\"\n",
      "_________________________________________________________________\n",
      "Layer (type)                 Output Shape              Param #   \n",
      "=================================================================\n",
      "conv2d_12 (Conv2D)           (None, 30, 30, 32)        320       \n",
      "_________________________________________________________________\n",
      "conv2d_13 (Conv2D)           (None, 28, 28, 32)        9248      \n",
      "_________________________________________________________________\n",
      "max_pooling2d_6 (MaxPooling2 (None, 14, 14, 32)        0         \n",
      "_________________________________________________________________\n",
      "dropout_8 (Dropout)          (None, 14, 14, 32)        0         \n",
      "_________________________________________________________________\n",
      "conv2d_14 (Conv2D)           (None, 14, 14, 64)        18496     \n",
      "_________________________________________________________________\n",
      "conv2d_15 (Conv2D)           (None, 12, 12, 64)        36928     \n",
      "_________________________________________________________________\n",
      "max_pooling2d_7 (MaxPooling2 (None, 6, 6, 64)          0         \n",
      "_________________________________________________________________\n",
      "dropout_9 (Dropout)          (None, 6, 6, 64)          0         \n",
      "_________________________________________________________________\n",
      "conv2d_16 (Conv2D)           (None, 6, 6, 64)          36928     \n",
      "_________________________________________________________________\n",
      "conv2d_17 (Conv2D)           (None, 4, 4, 64)          36928     \n",
      "_________________________________________________________________\n",
      "max_pooling2d_8 (MaxPooling2 (None, 2, 2, 64)          0         \n",
      "_________________________________________________________________\n",
      "dropout_10 (Dropout)         (None, 2, 2, 64)          0         \n",
      "_________________________________________________________________\n",
      "flatten_2 (Flatten)          (None, 256)               0         \n",
      "_________________________________________________________________\n",
      "dense_4 (Dense)              (None, 512)               131584    \n",
      "_________________________________________________________________\n",
      "dropout_11 (Dropout)         (None, 512)               0         \n",
      "_________________________________________________________________\n",
      "dense_5 (Dense)              (None, 43)                22059     \n",
      "=================================================================\n",
      "Total params: 292,491\n",
      "Trainable params: 292,491\n",
      "Non-trainable params: 0\n",
      "_________________________________________________________________\n"
     ]
    }
   ],
   "source": [
    "cnn_model.summary()"
   ]
  },
  {
   "cell_type": "code",
   "execution_count": 56,
   "id": "d64bfff8",
   "metadata": {},
   "outputs": [
    {
     "name": "stdout",
     "output_type": "stream",
     "text": [
      "Epoch 1/50\n",
      "70/70 [==============================] - 4s 44ms/step - loss: 3.4360 - accuracy: 0.0768 - val_loss: 3.2022 - val_accuracy: 0.1556\n",
      "Epoch 2/50\n",
      "70/70 [==============================] - 2s 30ms/step - loss: 1.9956 - accuracy: 0.4284 - val_loss: 0.9486 - val_accuracy: 0.7197\n",
      "Epoch 3/50\n",
      "70/70 [==============================] - 2s 30ms/step - loss: 0.7858 - accuracy: 0.7462 - val_loss: 0.5055 - val_accuracy: 0.8524\n",
      "Epoch 4/50\n",
      "70/70 [==============================] - 2s 30ms/step - loss: 0.4202 - accuracy: 0.8647 - val_loss: 0.3018 - val_accuracy: 0.9018\n",
      "Epoch 5/50\n",
      "70/70 [==============================] - 2s 30ms/step - loss: 0.2822 - accuracy: 0.9079 - val_loss: 0.2321 - val_accuracy: 0.9274\n",
      "Epoch 6/50\n",
      "70/70 [==============================] - 2s 30ms/step - loss: 0.1996 - accuracy: 0.9368 - val_loss: 0.1983 - val_accuracy: 0.9426\n",
      "Epoch 7/50\n",
      "70/70 [==============================] - 2s 30ms/step - loss: 0.1570 - accuracy: 0.9505 - val_loss: 0.1558 - val_accuracy: 0.9524\n",
      "Epoch 8/50\n",
      "70/70 [==============================] - 2s 31ms/step - loss: 0.1243 - accuracy: 0.9598 - val_loss: 0.1428 - val_accuracy: 0.9619\n",
      "Epoch 9/50\n",
      "70/70 [==============================] - 2s 30ms/step - loss: 0.1040 - accuracy: 0.9673 - val_loss: 0.1402 - val_accuracy: 0.9587\n",
      "Epoch 10/50\n",
      "70/70 [==============================] - 2s 30ms/step - loss: 0.0927 - accuracy: 0.9714 - val_loss: 0.1159 - val_accuracy: 0.9658\n",
      "Epoch 11/50\n",
      "70/70 [==============================] - 2s 30ms/step - loss: 0.0869 - accuracy: 0.9740 - val_loss: 0.1047 - val_accuracy: 0.9667\n",
      "Epoch 12/50\n",
      "70/70 [==============================] - 2s 31ms/step - loss: 0.0710 - accuracy: 0.9779 - val_loss: 0.0855 - val_accuracy: 0.9753\n",
      "Epoch 13/50\n",
      "70/70 [==============================] - 2s 31ms/step - loss: 0.0611 - accuracy: 0.9814 - val_loss: 0.1045 - val_accuracy: 0.9705\n",
      "Epoch 14/50\n",
      "70/70 [==============================] - 2s 31ms/step - loss: 0.0557 - accuracy: 0.9830 - val_loss: 0.1060 - val_accuracy: 0.9676\n",
      "Epoch 15/50\n",
      "70/70 [==============================] - 2s 30ms/step - loss: 0.0529 - accuracy: 0.9831 - val_loss: 0.0863 - val_accuracy: 0.9719\n",
      "Epoch 16/50\n",
      "70/70 [==============================] - 2s 30ms/step - loss: 0.0492 - accuracy: 0.9849 - val_loss: 0.0858 - val_accuracy: 0.9735\n",
      "Epoch 17/50\n",
      "70/70 [==============================] - 2s 31ms/step - loss: 0.0411 - accuracy: 0.9868 - val_loss: 0.0845 - val_accuracy: 0.9737\n",
      "Epoch 18/50\n",
      "70/70 [==============================] - 2s 32ms/step - loss: 0.0426 - accuracy: 0.9866 - val_loss: 0.0612 - val_accuracy: 0.9823\n",
      "Epoch 19/50\n",
      "70/70 [==============================] - 2s 32ms/step - loss: 0.0397 - accuracy: 0.9878 - val_loss: 0.0759 - val_accuracy: 0.9785\n",
      "Epoch 20/50\n",
      "70/70 [==============================] - 2s 32ms/step - loss: 0.0374 - accuracy: 0.9881 - val_loss: 0.0741 - val_accuracy: 0.9785\n",
      "Epoch 21/50\n",
      "70/70 [==============================] - 2s 31ms/step - loss: 0.0296 - accuracy: 0.9907 - val_loss: 0.0653 - val_accuracy: 0.9789\n",
      "Epoch 22/50\n",
      "70/70 [==============================] - 2s 32ms/step - loss: 0.0298 - accuracy: 0.9910 - val_loss: 0.0678 - val_accuracy: 0.9814\n",
      "Epoch 23/50\n",
      "70/70 [==============================] - 2s 31ms/step - loss: 0.0280 - accuracy: 0.9915 - val_loss: 0.0923 - val_accuracy: 0.9757\n",
      "Epoch 24/50\n",
      "70/70 [==============================] - 2s 31ms/step - loss: 0.0276 - accuracy: 0.9915 - val_loss: 0.0763 - val_accuracy: 0.9769\n",
      "Epoch 25/50\n",
      "70/70 [==============================] - 2s 31ms/step - loss: 0.0279 - accuracy: 0.9907 - val_loss: 0.0766 - val_accuracy: 0.9782\n",
      "Epoch 26/50\n",
      "70/70 [==============================] - 2s 31ms/step - loss: 0.0248 - accuracy: 0.9922 - val_loss: 0.0615 - val_accuracy: 0.9832\n",
      "Epoch 27/50\n",
      "70/70 [==============================] - 2s 31ms/step - loss: 0.0256 - accuracy: 0.9922 - val_loss: 0.0709 - val_accuracy: 0.9760\n",
      "Epoch 28/50\n",
      "70/70 [==============================] - 2s 30ms/step - loss: 0.0233 - accuracy: 0.9928 - val_loss: 0.0794 - val_accuracy: 0.9771\n",
      "Epoch 29/50\n",
      "70/70 [==============================] - 2s 30ms/step - loss: 0.0214 - accuracy: 0.9931 - val_loss: 0.0774 - val_accuracy: 0.9789\n",
      "Epoch 30/50\n",
      "70/70 [==============================] - 2s 30ms/step - loss: 0.0213 - accuracy: 0.9928 - val_loss: 0.0654 - val_accuracy: 0.9834\n",
      "Epoch 31/50\n",
      "70/70 [==============================] - 2s 30ms/step - loss: 0.0243 - accuracy: 0.9921 - val_loss: 0.0683 - val_accuracy: 0.9834\n",
      "Epoch 32/50\n",
      "70/70 [==============================] - 2s 30ms/step - loss: 0.0214 - accuracy: 0.9933 - val_loss: 0.0831 - val_accuracy: 0.9812\n",
      "Epoch 33/50\n",
      "70/70 [==============================] - 2s 30ms/step - loss: 0.0181 - accuracy: 0.9941 - val_loss: 0.0673 - val_accuracy: 0.9794\n",
      "Epoch 34/50\n",
      "70/70 [==============================] - 2s 29ms/step - loss: 0.0194 - accuracy: 0.9938 - val_loss: 0.0642 - val_accuracy: 0.9800\n",
      "Epoch 35/50\n",
      "70/70 [==============================] - 2s 31ms/step - loss: 0.0196 - accuracy: 0.9937 - val_loss: 0.0613 - val_accuracy: 0.9819\n",
      "Epoch 36/50\n",
      "70/70 [==============================] - 2s 31ms/step - loss: 0.0145 - accuracy: 0.9949 - val_loss: 0.0715 - val_accuracy: 0.9789\n",
      "Epoch 37/50\n",
      "70/70 [==============================] - 2s 31ms/step - loss: 0.0163 - accuracy: 0.9947 - val_loss: 0.0812 - val_accuracy: 0.9764\n",
      "Epoch 38/50\n",
      "70/70 [==============================] - 2s 30ms/step - loss: 0.0167 - accuracy: 0.9949 - val_loss: 0.0574 - val_accuracy: 0.9819\n",
      "Epoch 39/50\n",
      "70/70 [==============================] - 2s 31ms/step - loss: 0.0147 - accuracy: 0.9955 - val_loss: 0.0855 - val_accuracy: 0.9800\n",
      "Epoch 40/50\n",
      "70/70 [==============================] - 2s 30ms/step - loss: 0.0179 - accuracy: 0.9944 - val_loss: 0.0600 - val_accuracy: 0.9841\n",
      "Epoch 41/50\n",
      "70/70 [==============================] - 2s 30ms/step - loss: 0.0151 - accuracy: 0.9951 - val_loss: 0.0601 - val_accuracy: 0.9823\n",
      "Epoch 42/50\n",
      "70/70 [==============================] - 2s 30ms/step - loss: 0.0151 - accuracy: 0.9951 - val_loss: 0.0537 - val_accuracy: 0.9837\n",
      "Epoch 43/50\n",
      "70/70 [==============================] - 2s 30ms/step - loss: 0.0115 - accuracy: 0.9963 - val_loss: 0.0737 - val_accuracy: 0.9787\n",
      "Epoch 44/50\n",
      "70/70 [==============================] - 2s 30ms/step - loss: 0.0136 - accuracy: 0.9961 - val_loss: 0.0677 - val_accuracy: 0.9832\n",
      "Epoch 45/50\n",
      "70/70 [==============================] - 2s 31ms/step - loss: 0.0146 - accuracy: 0.9955 - val_loss: 0.0787 - val_accuracy: 0.9805\n",
      "Epoch 46/50\n",
      "70/70 [==============================] - 2s 30ms/step - loss: 0.0176 - accuracy: 0.9941 - val_loss: 0.0727 - val_accuracy: 0.9805\n",
      "Epoch 47/50\n",
      "70/70 [==============================] - 2s 30ms/step - loss: 0.0114 - accuracy: 0.9961 - val_loss: 0.0562 - val_accuracy: 0.9844\n",
      "Epoch 48/50\n",
      "70/70 [==============================] - 2s 30ms/step - loss: 0.0128 - accuracy: 0.9962 - val_loss: 0.0604 - val_accuracy: 0.9839\n",
      "Epoch 49/50\n",
      "70/70 [==============================] - 2s 31ms/step - loss: 0.0126 - accuracy: 0.9959 - val_loss: 0.0540 - val_accuracy: 0.9887\n",
      "Epoch 50/50\n",
      "70/70 [==============================] - 2s 32ms/step - loss: 0.0118 - accuracy: 0.9961 - val_loss: 0.0910 - val_accuracy: 0.9776\n"
     ]
    }
   ],
   "source": [
    "history = cnn_model.fit(X_train_gray_norm,\n",
    "                        y_train,\n",
    "                        batch_size=500,\n",
    "                        epochs=50,\n",
    "                        verbose=1,\n",
    "                        validation_data = (X_validation_gray_norm,y_validation))"
   ]
  },
  {
   "cell_type": "code",
   "execution_count": 58,
   "id": "58470a99",
   "metadata": {},
   "outputs": [
    {
     "name": "stdout",
     "output_type": "stream",
     "text": [
      "Test loss: 0.1573006957769394\n",
      "Test accuracy: 0.96856689453125\n"
     ]
    }
   ],
   "source": [
    "scores = cnn_model.evaluate(X_test_gray_norm, y_test,verbose=0)\n",
    "print('Test loss:', scores[0])\n",
    "print('Test accuracy:', scores[1])"
   ]
  },
  {
   "cell_type": "code",
   "execution_count": 59,
   "id": "5475235a",
   "metadata": {},
   "outputs": [
    {
     "data": {
      "image/png": "[encoded data removed]",
      "text/plain": [
       "<Figure size 432x288 with 1 Axes>"
      ]
     },
     "metadata": {
      "needs_background": "light"
     },
     "output_type": "display_data"
    },
    {
     "data": {
      "image/png": "[encoded data removed]",
      "text/plain": [
       "<Figure size 432x288 with 1 Axes>"
      ]
     },
     "metadata": {
      "needs_background": "light"
     },
     "output_type": "display_data"
    }
   ],
   "source": [
    "import matplotlib.pyplot as plt\n",
    "%matplotlib inline\n",
    "accuracy = history.history['accuracy']\n",
    "val_accuracy = history.history['val_accuracy']\n",
    "loss = history.history['loss']\n",
    "val_loss = history.history['val_loss']\n",
    "epochs = range(len(accuracy))\n",
    "plt.plot(epochs, accuracy, 'bo', label='Training Accuracy')\n",
    "plt.plot(epochs, val_accuracy, 'b', label='Validation Accuracy')\n",
    "plt.title('Training and Validation accuracy')\n",
    "plt.legend()\n",
    "plt.figure()\n",
    "plt.plot(epochs, loss, 'bo', label='Training Loss')\n",
    "plt.plot(epochs, val_loss, 'b', label='Validation Loss')\n",
    "plt.title('Training and validation loss')\n",
    "plt.legend()\n",
    "plt.show()"
   ]
  },
  {
   "cell_type": "code",
   "execution_count": 60,
   "id": "40b66b36",
   "metadata": {},
   "outputs": [],
   "source": [
    "#get the predictions for the test data\n",
    "predicted_classes = cnn_model.predict_classes(X_test_gray_norm)\n",
    "#get the indices to be plotted\n",
    "y_true = y_test\n"
   ]
  },
  {
   "cell_type": "code",
   "execution_count": 61,
   "id": "4f9eaed1",
   "metadata": {},
   "outputs": [],
   "source": [
    "from sklearn.metrics import confusion_matrix\n",
    "cm = confusion_matrix(y_true, predicted_classes)"
   ]
  },
  {
   "cell_type": "code",
   "execution_count": 67,
   "id": "6557e9be",
   "metadata": {},
   "outputs": [
    {
     "data": {
      "image/png": "[encoded data removed]",
      "text/plain": [
       "<Figure size 432x288 with 11 Axes>"
      ]
     },
     "metadata": {
      "needs_background": "light"
     },
     "output_type": "display_data"
    }
   ],
   "source": [
    "for i in range(0,12):\n",
    "    plt.subplot(4,3,i+1)\n",
    "    plt.imshow(X_test_gray_norm[i+10].squeeze(), cmap='gray', interpolation='none')\n",
    "    plt.title(\"Predicted {}, Class {}\".format(predicted_classes[i+10], y_true[i+10]))\n",
    "    plt.tight_layout()"
   ]
  },
  {
   "cell_type": "code",
   "execution_count": null,
   "id": "db29d117",
   "metadata": {},
   "outputs": [],
   "source": []
  }
 ],
 "metadata": {
  "kernelspec": {
   "display_name": "Python 3",
   "language": "python",
   "name": "python3"
  },
  "language_info": {
   "codemirror_mode": {
    "name": "ipython",
    "version": 3
   },
   "file_extension": ".py",
   "mimetype": "text/x-python",
   "name": "python",
   "nbconvert_exporter": "python",
   "pygments_lexer": "ipython3",
   "version": "3.8.8"
  }
 },
 "nbformat": 4,
 "nbformat_minor": 5
}
